{
 "cells": [
  {
   "cell_type": "code",
   "execution_count": 1,
   "id": "fae6f46e",
   "metadata": {},
   "outputs": [],
   "source": [
    "import pandas as pd \n",
    "import numpy as np\n",
    "import datetime as dtm\n",
    "# from datatable import fread, dt\n",
    "import time\n",
    "start_time = dtm.datetime.now()\n",
    "%matplotlib inline"
   ]
  },
  {
   "cell_type": "code",
   "execution_count": 2,
   "id": "9de18f9d",
   "metadata": {},
   "outputs": [],
   "source": [
    "# %%time\n",
    "# vars1 = dt.fread('vars before dedup.csv')\n",
    "# vars = vars1.to_pandas()\n",
    "# del vars1\n",
    "# vars.shape"
   ]
  },
  {
   "cell_type": "code",
   "execution_count": 3,
   "id": "9db017ee",
   "metadata": {},
   "outputs": [
    {
     "name": "stdout",
     "output_type": "stream",
     "text": [
      "CPU times: user 1min 23s, sys: 35.8 s, total: 1min 59s\n",
      "Wall time: 2min 20s\n"
     ]
    },
    {
     "data": {
      "text/plain": [
       "(1000000, 3259)"
      ]
     },
     "execution_count": 3,
     "metadata": {},
     "output_type": "execute_result"
    }
   ],
   "source": [
    "%%time\n",
    "vars=pd.read_csv('vars_before dedup.csv')\n",
    "vars.shape"
   ]
  },
  {
   "cell_type": "code",
   "execution_count": 4,
   "id": "902faa33",
   "metadata": {},
   "outputs": [
    {
     "name": "stdout",
     "output_type": "stream",
     "text": [
      "(1000000, 3259)\n",
      "CPU times: user 23min 41s, sys: 2min 9s, total: 25min 50s\n",
      "Wall time: 26min 19s\n"
     ]
    },
    {
     "data": {
      "text/plain": [
       "(1000000, 1841)"
      ]
     },
     "execution_count": 4,
     "metadata": {},
     "output_type": "execute_result"
    }
   ],
   "source": [
    "%%time\n",
    "# this cell takes about 25 minutes on my new notebook\n",
    "# it takes about 48 minutes on my old laptop\n",
    "print(vars.shape)\n",
    "vars = vars.T.drop_duplicates().T\n",
    "vars.shape"
   ]
  },
  {
   "cell_type": "code",
   "execution_count": 5,
   "id": "3a323d52",
   "metadata": {},
   "outputs": [],
   "source": [
    "def get_dup_columns(m):\n",
    "    '''\n",
    "    This will check every column in data frame and verify if you have duplicated columns.\n",
    "    It will find and remove any duplicate columns\n",
    "    '''\n",
    "    headers_list = [x for x in m.columns]\n",
    "    duplicate_col2 = []\n",
    "    y = 0\n",
    "    while y <= len(headers_list)-1:\n",
    "        for x in range(1,len(headers_list)-1):\n",
    "            if m[headers_list[y]].equals(m[headers_list[x]]) == False:\n",
    "                continue\n",
    "            else:\n",
    "                duplicate_col2.append((headers_list[y],headers_list[x]))\n",
    "#                 m.drop(columns={headers_list[x]}, inplace=True)\n",
    "        headers_list.pop(0)  \n",
    "    return duplicate_col2"
   ]
  },
  {
   "cell_type": "code",
   "execution_count": 6,
   "id": "5b9932fe",
   "metadata": {},
   "outputs": [],
   "source": [
    "# %%time\n",
    "# # It looks like the two fields account number and customerID may be identical. Let's check\n",
    "# duplicate_col = get_dup_columns(vars)\n",
    "# duplicate_col"
   ]
  },
  {
   "cell_type": "code",
   "execution_count": 7,
   "id": "60aad862",
   "metadata": {},
   "outputs": [],
   "source": [
    "# %%time\n",
    "vars.to_csv('vars.csv',index=False)"
   ]
  },
  {
   "cell_type": "code",
   "execution_count": 8,
   "id": "c61faa13",
   "metadata": {},
   "outputs": [
    {
     "name": "stdout",
     "output_type": "stream",
     "text": [
      "duration:  0:34:55.390267\n"
     ]
    }
   ],
   "source": [
    "print('duration: ',dtm.datetime.now() - start_time)"
   ]
  }
 ],
 "metadata": {
  "kernelspec": {
   "display_name": "Python 3 (ipykernel)",
   "language": "python",
   "name": "python3"
  },
  "language_info": {
   "codemirror_mode": {
    "name": "ipython",
    "version": 3
   },
   "file_extension": ".py",
   "mimetype": "text/x-python",
   "name": "python",
   "nbconvert_exporter": "python",
   "pygments_lexer": "ipython3",
   "version": "3.10.9"
  }
 },
 "nbformat": 4,
 "nbformat_minor": 5
}
